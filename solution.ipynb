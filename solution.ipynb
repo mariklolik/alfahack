{
 "cells": [
  {
   "cell_type": "code",
   "execution_count": 2,
   "metadata": {
    "cellId": "aq8firtk7s616gnw7l89v",
    "colab": {
     "base_uri": "https://localhost:8080/"
    },
    "collapsed": true,
    "id": "mWOdkgCCJ0bJ",
    "jupyter": {
     "outputs_hidden": true
    },
    "outputId": "90198eb5-f618-4a65-dbab-8c2973b026cc"
   },
   "outputs": [
    {
     "name": "stdout",
     "output_type": "stream",
     "text": [
      "Defaulting to user installation because normal site-packages is not writeable\n",
      "Collecting catboost\n",
      "  Obtaining dependency information for catboost from https://files.pythonhosted.org/packages/15/95/951b51229a9c8af767e48b1f9ef7baa87279b1f5847d2f85de0855578e5d/catboost-1.2.2-cp310-cp310-manylinux2014_x86_64.whl.metadata\n",
      "  Downloading catboost-1.2.2-cp310-cp310-manylinux2014_x86_64.whl.metadata (1.2 kB)\n",
      "Requirement already satisfied: graphviz in /usr/local/lib/python3.10/dist-packages (from catboost) (0.20.1)\n",
      "Requirement already satisfied: matplotlib in /usr/local/lib/python3.10/dist-packages (from catboost) (3.7.1)\n",
      "Requirement already satisfied: numpy>=1.16.0 in /usr/local/lib/python3.10/dist-packages (from catboost) (1.22.4)\n",
      "Requirement already satisfied: pandas>=0.24 in /usr/local/lib/python3.10/dist-packages (from catboost) (1.5.3)\n",
      "Requirement already satisfied: scipy in /usr/local/lib/python3.10/dist-packages (from catboost) (1.10.1)\n",
      "Requirement already satisfied: plotly in /usr/local/lib/python3.10/dist-packages (from catboost) (5.13.1)\n",
      "Requirement already satisfied: six in /kernel/lib/python3.10/site-packages (from catboost) (1.16.0)\n",
      "Requirement already satisfied: python-dateutil>=2.8.1 in /kernel/lib/python3.10/site-packages (from pandas>=0.24->catboost) (2.8.2)\n",
      "Requirement already satisfied: pytz>=2020.1 in /usr/local/lib/python3.10/dist-packages (from pandas>=0.24->catboost) (2022.7.1)\n",
      "Requirement already satisfied: contourpy>=1.0.1 in /kernel/lib/python3.10/site-packages (from matplotlib->catboost) (1.2.0)\n",
      "Requirement already satisfied: cycler>=0.10 in /kernel/lib/python3.10/site-packages (from matplotlib->catboost) (0.12.1)\n",
      "Requirement already satisfied: fonttools>=4.22.0 in /kernel/lib/python3.10/site-packages (from matplotlib->catboost) (4.44.0)\n",
      "Requirement already satisfied: kiwisolver>=1.0.1 in /kernel/lib/python3.10/site-packages (from matplotlib->catboost) (1.4.5)\n",
      "Requirement already satisfied: packaging>=20.0 in /kernel/lib/python3.10/site-packages (from matplotlib->catboost) (23.2)\n",
      "Requirement already satisfied: pillow>=6.2.0 in /kernel/lib/python3.10/site-packages (from matplotlib->catboost) (10.1.0)\n",
      "Requirement already satisfied: pyparsing>=2.3.1 in /kernel/lib/python3.10/site-packages (from matplotlib->catboost) (2.4.7)\n",
      "Requirement already satisfied: tenacity>=6.2.0 in /usr/local/lib/python3.10/dist-packages (from plotly->catboost) (8.2.2)\n",
      "Downloading catboost-1.2.2-cp310-cp310-manylinux2014_x86_64.whl (98.7 MB)\n",
      "\u001b[2K   \u001b[90m━━━━━━━━━━━━━━━━━━━━━━━━━━━━━━━━━━━━━━━━\u001b[0m \u001b[32m98.7/98.7 MB\u001b[0m \u001b[31m9.0 MB/s\u001b[0m eta \u001b[36m0:00:00\u001b[0m:00:01\u001b[0m00:01\u001b[0m\n",
      "\u001b[?25hInstalling collected packages: catboost\n",
      "Successfully installed catboost-1.2.2\n",
      "\n",
      "\u001b[1m[\u001b[0m\u001b[34;49mnotice\u001b[0m\u001b[1;39;49m]\u001b[0m\u001b[39;49m A new release of pip is available: \u001b[0m\u001b[31;49m23.2.1\u001b[0m\u001b[39;49m -> \u001b[0m\u001b[32;49m23.3.1\u001b[0m\n",
      "\u001b[1m[\u001b[0m\u001b[34;49mnotice\u001b[0m\u001b[1;39;49m]\u001b[0m\u001b[39;49m To update, run: \u001b[0m\u001b[32;49mpython3 -m pip install --upgrade pip\u001b[0m\n"
     ]
    }
   ],
   "source": [
    "#!g1.2\n",
    "%pip install catboost"
   ]
  },
  {
   "cell_type": "code",
   "execution_count": 8,
   "metadata": {
    "cellId": "mmfu6y6e9cf3eplefxj04",
    "colab": {
     "base_uri": "https://localhost:8080/"
    },
    "collapsed": true,
    "id": "CqjIPVmyx7an",
    "jupyter": {
     "outputs_hidden": true
    },
    "outputId": "c083846a-9846-48f9-e809-92d1f7038cc9"
   },
   "outputs": [
    {
     "name": "stdout",
     "output_type": "stream",
     "text": [
      "Defaulting to user installation because normal site-packages is not writeable\n",
      "Requirement already satisfied: fancyimpute in /home/jupyter/.local/lib/python3.10/site-packages (0.7.0)\n",
      "Requirement already satisfied: knnimpute>=0.1.0 in /home/jupyter/.local/lib/python3.10/site-packages (from fancyimpute) (0.1.0)\n",
      "Requirement already satisfied: scikit-learn>=0.24.2 in /usr/local/lib/python3.10/dist-packages (from fancyimpute) (1.2.2)\n",
      "Requirement already satisfied: cvxpy in /usr/local/lib/python3.10/dist-packages (from fancyimpute) (1.3.2)\n",
      "Requirement already satisfied: cvxopt in /usr/local/lib/python3.10/dist-packages (from fancyimpute) (1.3.1)\n",
      "Requirement already satisfied: pytest in /usr/local/lib/python3.10/dist-packages (from fancyimpute) (7.2.2)\n",
      "Requirement already satisfied: nose in /home/jupyter/.local/lib/python3.10/site-packages (from fancyimpute) (1.3.7)\n",
      "Requirement already satisfied: six in /kernel/lib/python3.10/site-packages (from knnimpute>=0.1.0->fancyimpute) (1.16.0)\n",
      "Requirement already satisfied: numpy>=1.10 in /usr/local/lib/python3.10/dist-packages (from knnimpute>=0.1.0->fancyimpute) (1.22.4)\n",
      "Requirement already satisfied: scipy>=1.3.2 in /usr/local/lib/python3.10/dist-packages (from scikit-learn>=0.24.2->fancyimpute) (1.10.1)\n",
      "Requirement already satisfied: joblib>=1.1.1 in /usr/local/lib/python3.10/dist-packages (from scikit-learn>=0.24.2->fancyimpute) (1.3.1)\n",
      "Requirement already satisfied: threadpoolctl>=2.0.0 in /usr/local/lib/python3.10/dist-packages (from scikit-learn>=0.24.2->fancyimpute) (3.2.0)\n",
      "Requirement already satisfied: osqp>=0.4.1 in /usr/local/lib/python3.10/dist-packages (from cvxpy->fancyimpute) (0.6.2.post8)\n",
      "Requirement already satisfied: ecos>=2 in /usr/local/lib/python3.10/dist-packages (from cvxpy->fancyimpute) (2.0.12)\n",
      "Requirement already satisfied: scs>=1.1.6 in /usr/local/lib/python3.10/dist-packages (from cvxpy->fancyimpute) (3.2.3)\n",
      "Collecting setuptools>65.5.1 (from cvxpy->fancyimpute)\n",
      "  Obtaining dependency information for setuptools>65.5.1 from https://files.pythonhosted.org/packages/bb/e1/ed2dd0850446b8697ad28d118df885ad04140c64ace06c4bd559f7c8a94f/setuptools-69.0.2-py3-none-any.whl.metadata\n",
      "  Using cached setuptools-69.0.2-py3-none-any.whl.metadata (6.3 kB)\n",
      "Requirement already satisfied: attrs>=19.2.0 in /kernel/lib/python3.10/site-packages (from pytest->fancyimpute) (23.1.0)\n",
      "Requirement already satisfied: iniconfig in /usr/local/lib/python3.10/dist-packages (from pytest->fancyimpute) (2.0.0)\n",
      "Requirement already satisfied: packaging in /kernel/lib/python3.10/site-packages (from pytest->fancyimpute) (23.2)\n",
      "Requirement already satisfied: pluggy<2.0,>=0.12 in /usr/local/lib/python3.10/dist-packages (from pytest->fancyimpute) (1.2.0)\n",
      "Requirement already satisfied: exceptiongroup>=1.0.0rc8 in /usr/local/lib/python3.10/dist-packages (from pytest->fancyimpute) (1.1.2)\n",
      "Requirement already satisfied: tomli>=1.0.0 in /usr/local/lib/python3.10/dist-packages (from pytest->fancyimpute) (2.0.1)\n",
      "Requirement already satisfied: qdldl in /usr/local/lib/python3.10/dist-packages (from osqp>=0.4.1->cvxpy->fancyimpute) (0.1.7.post0)\n",
      "Using cached setuptools-69.0.2-py3-none-any.whl (819 kB)\n",
      "Installing collected packages: setuptools\n",
      "\u001b[31mERROR: pip's dependency resolver does not currently take into account all the packages that are installed. This behaviour is the source of the following dependency conflicts.\n",
      "ml-kernel 0.0.1 requires requests>=2.31.0, but you have requests 2.27.1 which is incompatible.\n",
      "ml-kernel 0.0.1 requires setuptools<=51.0.0, but you have setuptools 69.0.2 which is incompatible.\u001b[0m\u001b[31m\n",
      "\u001b[0mSuccessfully installed setuptools-69.0.2\n",
      "\n",
      "\u001b[1m[\u001b[0m\u001b[34;49mnotice\u001b[0m\u001b[1;39;49m]\u001b[0m\u001b[39;49m A new release of pip is available: \u001b[0m\u001b[31;49m23.2.1\u001b[0m\u001b[39;49m -> \u001b[0m\u001b[32;49m23.3.1\u001b[0m\n",
      "\u001b[1m[\u001b[0m\u001b[34;49mnotice\u001b[0m\u001b[1;39;49m]\u001b[0m\u001b[39;49m To update, run: \u001b[0m\u001b[32;49mpython3 -m pip install --upgrade pip\u001b[0m\n"
     ]
    }
   ],
   "source": [
    "#!g1.2\n",
    "%pip install fancyimpute \n"
   ]
  },
  {
   "cell_type": "code",
   "execution_count": 355,
   "metadata": {
    "cellId": "ha2xnf996la1bxir5k3kq",
    "id": "0N_e0e0yJ2Ff"
   },
   "outputs": [],
   "source": [
    "#!g1.2\n",
    "import pandas as pd\n",
    "import numpy as np\n",
    "\n",
    "from lightgbm import LGBMClassifier\n",
    "from sklearn.metrics import roc_auc_score, accuracy_score\n",
    "from sklearn.model_selection import train_test_split\n",
    "from catboost import CatBoostClassifier\n",
    "\n",
    "import matplotlib.pyplot as plt\n",
    "import seaborn as sns"
   ]
  },
  {
   "cell_type": "code",
   "execution_count": 354,
   "metadata": {
    "cellId": "hn5246pt4agyy5u2skqos",
    "id": "dUedRxsfI9VS"
   },
   "outputs": [],
   "source": [
    "#!g1.2\n",
    "from sklearn.datasets import make_classification\n",
    "from sklearn.model_selection import train_test_split\n"
   ]
  },
  {
   "cell_type": "code",
   "execution_count": 366,
   "metadata": {
    "cellId": "5vl36rne5ud4a82qwdnct1",
    "id": "LjOBU6k5KH6a"
   },
   "outputs": [],
   "source": [
    "#!g1.2\n",
    "\n",
    "train_df = pd.read_parquet('train.parquet')\n",
    "test_df = pd.read_parquet('test.parquet')"
   ]
  },
  {
   "cell_type": "code",
   "execution_count": 367,
   "metadata": {
    "cellId": "eysphdj72wdur30kfp8lj8",
    "id": "obGRBS12KM5K"
   },
   "outputs": [],
   "source": [
    "#!g1.2\n",
    "\n",
    "y1 = train_df.target_1\n",
    "y2 = train_df.target_2"
   ]
  },
  {
   "cell_type": "code",
   "execution_count": 368,
   "metadata": {
    "cellId": "u13lkcnimnaetyer9sh4dp",
    "id": "6vkCAiofKOVb"
   },
   "outputs": [],
   "source": [
    "#!g1.2\n",
    "\n",
    "train_df.drop([\"id\", \"target_1\", \"target_2\"], axis=1, inplace=True)\n",
    "test_df.drop([\"id\"], axis=1, inplace=True)"
   ]
  },
  {
   "cell_type": "markdown",
   "metadata": {
    "cellId": "0tecef2a5f3ywhi56fgsg",
    "execution_id": "a36eecb9-9292-4f8c-8a89-072b145e8677",
    "id": "rw7QqIhNP-k-"
   },
   "source": [
    "# Обработка данных"
   ]
  },
  {
   "cell_type": "code",
   "execution_count": 369,
   "metadata": {
    "cellId": "sx99cnd6oebc1hwatks5t",
    "id": "dBkVAbMuKUh7"
   },
   "outputs": [],
   "source": [
    "#!g1.2\n",
    "\n",
    "cat_cols = [\n",
    "    'channel_code', 'city', 'city_type',\n",
    "    'index_city_code', 'ogrn_month', 'ogrn_year',\n",
    "    'branch_code', 'okved', 'segment', 'has_non_fin_deals'\n",
    "]"
   ]
  },
  {
   "cell_type": "code",
   "execution_count": 370,
   "metadata": {
    "cellId": "gwqdu40pjwrymh3uq3q35",
    "id": "rB7K39W8Y_RB"
   },
   "outputs": [],
   "source": [
    "#!g1.2\n",
    "\n",
    "def data_transform(X):\n",
    "    X['has_non_fin_deals'] = (X['max_end_plan_non_fin_deals'].isna() == False)\n",
    "    X[cat_cols] = X[cat_cols].astype(\"category\")\n",
    "    for i in cat_cols:\n",
    "        X.loc[X[i].isna(), i] = X[i].mode()[0]\n",
    "    num_cols = X.columns.difference(X[cat_cols].columns).drop(['cnt_b_oper_3m'])\n",
    "    X[num_cols] = X[num_cols].fillna(0)\n",
    "    X[num_cols] = X[num_cols].astype(\"int64\")\n",
    "    for i in X[num_cols]:\n",
    "        X.loc[X[i] < 0, i] = np.nan\n",
    "    X.loc[(X['balance_amt_max'] < X['balance_amt_min']), 'balance_amt_min']  = np.nan\n",
    "    X.loc[(X['balance_amt_max'] < X['balance_amt_avg']),  'balance_amt_avg'] = np.nan\n",
    "    for i in num_cols:\n",
    "      if 'balance' in i or 'sum_' in i:\n",
    "        X[i] = np.log1p(X[i])\n",
    "    return X"
   ]
  },
  {
   "cell_type": "code",
   "execution_count": 371,
   "metadata": {
    "cellId": "kuldlwvgw3pzfb5ywuei4i"
   },
   "outputs": [],
   "source": [
    "#!g1.2\n",
    "#!g1.2\n",
    "X = train_df.drop(\"total_target\", axis=1)\n",
    "y = train_df.total_target"
   ]
  },
  {
   "cell_type": "code",
   "execution_count": 372,
   "metadata": {
    "cellId": "o0nn2bvrl6fk3d35pjld",
    "id": "TDSBH5amyD91"
   },
   "outputs": [],
   "source": [
    "#!g1.2\n",
    "\n",
    "X = data_transform(X)"
   ]
  },
  {
   "cell_type": "code",
   "execution_count": 373,
   "metadata": {
    "cellId": "y2mbu4n8mapgy51ruwbpss",
    "id": "JbMz2hW928bY"
   },
   "outputs": [],
   "source": [
    "\n",
    "#!g1.2\n",
    "test_df = data_transform(test_df)"
   ]
  },
  {
   "cell_type": "code",
   "execution_count": 374,
   "metadata": {
    "cellId": "86ve8wetsk41enlxd957mo",
    "id": "rvUDZO283gbv"
   },
   "outputs": [],
   "source": [
    "#!g1.2\n",
    "numeric_data = X.select_dtypes([np.number])\n",
    "num_cols = numeric_data.columns"
   ]
  },
  {
   "cell_type": "code",
   "execution_count": 375,
   "metadata": {
    "cellId": "n6qjxz79vwb0k1dpg2g9g2o",
    "colab": {
     "base_uri": "https://localhost:8080/"
    },
    "id": "nYzYitXFS0r8",
    "outputId": "6fb0f2ca-9da4-437e-d160-e6acaf8b65b7"
   },
   "outputs": [
    {
     "name": "stdout",
     "output_type": "stream",
     "text": [
      "[SoftImpute] Max Singular Value of X_init = 24970371.577748\n",
      "[SoftImpute] Iter 1: observed MAE=30.819824 rank=16\n",
      "[SoftImpute] Iter 2: observed MAE=30.819650 rank=16\n",
      "[SoftImpute] Iter 3: observed MAE=30.819635 rank=16\n",
      "[SoftImpute] Iter 4: observed MAE=30.819630 rank=16\n",
      "[SoftImpute] Iter 5: observed MAE=30.819628 rank=16\n",
      "[SoftImpute] Iter 6: observed MAE=30.819628 rank=16\n",
      "[SoftImpute] Iter 7: observed MAE=30.819627 rank=16\n",
      "[SoftImpute] Iter 8: observed MAE=30.819627 rank=16\n",
      "[SoftImpute] Stopped after iteration 8 for lambda=499407.431555\n",
      "[SoftImpute] Max Singular Value of X_init = 1145869.583224\n",
      "[SoftImpute] Iter 1: observed MAE=7.248715 rank=8\n",
      "[SoftImpute] Iter 2: observed MAE=7.248642 rank=8\n",
      "[SoftImpute] Iter 3: observed MAE=7.248642 rank=8\n",
      "[SoftImpute] Stopped after iteration 3 for lambda=22917.391664\n"
     ]
    }
   ],
   "source": [
    "#!g1.2\n",
    "from fancyimpute import KNN, NuclearNormMinimization, SoftImpute, BiScaler\n",
    "from sklearn.impute import IterativeImputer\n",
    "\n",
    "X_imputed = X\n",
    "X_imputed[num_cols] = SoftImpute().fit_transform(X[num_cols].to_numpy())\n",
    "\n",
    "test_df_imputed = test_df\n",
    "test_df_imputed[num_cols] = SoftImpute().fit_transform(test_df[num_cols].to_numpy())"
   ]
  },
  {
   "cell_type": "markdown",
   "metadata": {
    "cellId": "sbs19d0n4mxgiw5tgi0z",
    "execution_id": "77718eaa-95fd-415d-b4b7-e79b99cb3797"
   },
   "source": [
    "\n",
    "## Новые фичи"
   ]
  },
  {
   "cell_type": "code",
   "execution_count": 376,
   "metadata": {
    "cellId": "5v5fouyv7rr7pv27vq65b3",
    "id": "yOtFycJkWqwL"
   },
   "outputs": [
    {
     "name": "stderr",
     "output_type": "stream",
     "text": [
      "<ipython-input-219-10bc6f73e138>:13: PerformanceWarning: DataFrame is highly fragmented.  This is usually the result of calling `frame.insert` many times, which has poor performance.  Consider joining all columns at once using pd.concat(axis=1) instead. To get a de-fragmented frame, use `newframe = frame.copy()`\n",
      "  X_imputed['balance_amt_avg**2*balance_amt_max**3'] = (X_imputed['balance_amt_avg']**2) * (X_imputed['balance_amt_max']**3)\n"
     ]
    }
   ],
   "source": [
    "#!g1.2\n",
    "X_imputed['balance_amt_deviation'] = np.abs((X_imputed['balance_amt_max'] - X_imputed['balance_amt_min']) / 2 - X_imputed['balance_amt_day_avg'])\n",
    "X_imputed['founderpres_difference'] = X_imputed['max_founderpres'] - X_imputed['min_founderpres']\n",
    "X_imputed['a_oper_1m_avg'] = np.where((X_imputed['cnt_a_oper_1m'] >= 1), (X_imputed['sum_a_oper_1m'] / X_imputed['cnt_a_oper_1m']), X_imputed['sum_a_oper_1m'])\n",
    "X_imputed['avg_start_non_fin_deals_difference'] = (X_imputed['min_start_non_fin_deals'] - X_imputed['max_start_non_fin_deals'])  / 2\n",
    "X_imputed['avg_end_fact_fin_deals'] = (X_imputed['min_end_fact_fin_deals'] - X_imputed['max_end_fact_fin_deals'])  / 2\n",
    "X_imputed['avg_end_plan_non_fin_deals'] = (X_imputed['min_end_plan_non_fin_deals'] - X_imputed['max_end_plan_non_fin_deals'])  / 2\n",
    "X_imputed['avg_non_fin_difference'] = X_imputed['avg_start_non_fin_deals_difference'] - X_imputed['avg_end_plan_non_fin_deals']\n",
    "\n",
    "X_imputed['sum_cred_e_oper_1m**3*sum_cred_e_oper_3m**3'] = (X_imputed['sum_cred_e_oper_1m']**3)*(X_imputed['sum_cred_e_oper_3m']**3)\n",
    "\n",
    "X_imputed['balance_amt_max**3*balance_amt_min'] = (X_imputed['balance_amt_max'] ** 3) * (X_imputed['balance_amt_min'])\n",
    "X_imputed['balance_amt_day_avg*balance_amt_max**2'] = (X_imputed['balance_amt_day_avg']) * (X_imputed['balance_amt_max']**2)\n",
    "X_imputed['balance_amt_avg**2*balance_amt_max**3'] = (X_imputed['balance_amt_avg']**2) * (X_imputed['balance_amt_max']**3)"
   ]
  },
  {
   "cell_type": "code",
   "execution_count": 377,
   "metadata": {
    "cellId": "rmdzjhz00hi8bkdwm1t9pa",
    "id": "KFXg21CYXqSg"
   },
   "outputs": [
    {
     "name": "stderr",
     "output_type": "stream",
     "text": [
      "<ipython-input-220-fbeb4fb869af>:13: PerformanceWarning: DataFrame is highly fragmented.  This is usually the result of calling `frame.insert` many times, which has poor performance.  Consider joining all columns at once using pd.concat(axis=1) instead. To get a de-fragmented frame, use `newframe = frame.copy()`\n",
      "  test_df_imputed['balance_amt_avg**2*balance_amt_max**3'] = (test_df_imputed['balance_amt_avg']**2) * (test_df_imputed['balance_amt_max']**3)\n"
     ]
    }
   ],
   "source": [
    "#!g1.2\n",
    "test_df_imputed['balance_amt_deviation'] = np.abs((test_df_imputed['balance_amt_max'] - test_df_imputed['balance_amt_min']) / 2 - test_df_imputed['balance_amt_day_avg'])\n",
    "test_df_imputed['founderpres_difference'] = test_df_imputed['max_founderpres'] - test_df_imputed['min_founderpres']\n",
    "test_df_imputed['a_oper_1m_avg'] = np.where((test_df_imputed['cnt_a_oper_1m'] >= 1), (test_df_imputed['sum_a_oper_1m'] / test_df_imputed['cnt_a_oper_1m']), test_df_imputed['sum_a_oper_1m'])\n",
    "test_df_imputed['avg_start_non_fin_deals_difference'] = (test_df_imputed['min_start_non_fin_deals'] - test_df_imputed['max_start_non_fin_deals'])  / 2\n",
    "test_df_imputed['avg_end_fact_fin_deals'] = (test_df_imputed['min_end_fact_fin_deals'] - test_df_imputed['max_end_fact_fin_deals'])  / 2\n",
    "test_df_imputed['avg_end_plan_non_fin_deals'] = (test_df_imputed['min_end_plan_non_fin_deals'] - test_df_imputed['max_end_plan_non_fin_deals'])  / 2\n",
    "test_df_imputed['avg_non_fin_difference'] = test_df_imputed['avg_start_non_fin_deals_difference'] - test_df_imputed['avg_end_plan_non_fin_deals']\n",
    "\n",
    "test_df_imputed['sum_cred_e_oper_1m**3*sum_cred_e_oper_3m**3'] = (test_df_imputed['sum_cred_e_oper_1m']**3)*(test_df_imputed['sum_cred_e_oper_3m']**3)\n",
    "\n",
    "test_df_imputed['balance_amt_max**3*balance_amt_min'] = (test_df_imputed['balance_amt_max'] ** 3) * (test_df_imputed['balance_amt_min'])\n",
    "test_df_imputed['balance_amt_day_avg*balance_amt_max**2'] = (test_df_imputed['balance_amt_day_avg']) * (test_df_imputed['balance_amt_max']**2)\n",
    "test_df_imputed['balance_amt_avg**2*balance_amt_max**3'] = (test_df_imputed['balance_amt_avg']**2) * (test_df_imputed['balance_amt_max']**3)"
   ]
  },
  {
   "cell_type": "markdown",
   "metadata": {
    "cellId": "oaq3uq7y3or0h000faa3ji9",
    "execution_id": "11aaae5d-8bfc-4945-bff9-f6e1be669f57"
   },
   "source": [
    "### Три модели"
   ]
  },
  {
   "cell_type": "code",
   "execution_count": 378,
   "metadata": {
    "cellId": "duws6d5rmcf670i2mtf5ws",
    "id": "DsKYstDloi9q"
   },
   "outputs": [],
   "source": [
    "#!g1.2\n",
    "from xgboost import XGBClassifier\n",
    "from catboost import CatBoostClassifier\n",
    "from lightgbm import LGBMClassifier\n",
    "from sklearn.model_selection import StratifiedKFold, train_test_split"
   ]
  },
  {
   "cell_type": "code",
   "execution_count": 379,
   "metadata": {
    "cellId": "ohoo8ra6bahw6i1ji80k6i"
   },
   "outputs": [],
   "source": [
    "#!g1.2\n",
    "catboost_params = {\n",
    "    'iterations': 2000,\n",
    "    'loss_function': 'Logloss',\n",
    "    'task_type': 'GPU',\n",
    "    'eval_metric': 'AUC',\n",
    "    'random_seed': 42,\n",
    "    'od_type': 'Iter',\n",
    "    'early_stopping_rounds': 300,\n",
    "    'learning_rate': 0.03,\n",
    "    'depth': 10,\n",
    "    'random_strength': 0.5,\n",
    "    'verbose': 100,\n",
    "}\n",
    "\n",
    "xgb_params = {\n",
    "    'n_estimators': 1000,\n",
    "    'n_job': 6,\n",
    "    'max_depth': 8,\n",
    "    'learning_rate': 0.05,\n",
    "    'colsample_bytree': 0.5,\n",
    "    'tree_method': 'gpu_hist', \n",
    "    'enable_categorical':True,\n",
    "    \"device\":\"cuda\"\n",
    "}\n",
    "\n",
    "lgb_params = {\n",
    "    'n_estimators': 2500,\n",
    "    'learning_rate': 0.05,\n",
    "    'subsample': 0.7,\n",
    "    'colsample_bytree': 0.7,\n",
    "    'reg_lambda': 0.2\n",
    "}"
   ]
  },
  {
   "cell_type": "code",
   "execution_count": 380,
   "metadata": {
    "cellId": "lw1jmnhkujnli3527jjp5"
   },
   "outputs": [],
   "source": [
    "#!g1.2\n",
    "\n",
    "train_x, val_x, train_y, val_y = train_test_split(X, y, shuffle=False)"
   ]
  },
  {
   "cell_type": "code",
   "execution_count": 382,
   "metadata": {
    "cellId": "tjff07pdkrd1nin4s9dqk"
   },
   "outputs": [],
   "source": [
    "#!g1.2\n",
    "import os\n",
    "import zipfile\n",
    "from IPython.display import FileLink\n",
    "\n",
    "def zipdir(path, ziph):\n",
    "    # ziph is zipfile handle\n",
    "    for root, dirs, files in os.walk(path):\n",
    "        for file in files:\n",
    "            ziph.write(os.path.join(root, file))\n",
    "\n",
    "def eval_recorder(params, tep, teprob, trp, trprob, scores, fi, name, mode='local'):\n",
    "    scores = pd.DataFrame(scores, columns=['score'])\n",
    "    mean_score = round(scores['score'].mean(), 6)\n",
    "    std_score = round(scores['score'].std(), 4)\n",
    "    name_score = str(mean_score) + '_' + str(std_score)\n",
    "    if mode == 'local':\n",
    "        if not os.path.isdir('results/' + name + '_' + name_score):\n",
    "            os.mkdir('results/' + name + '_' + name_score)\n",
    "        base_path = 'results/' + name + '_' + name_score + '/'\n",
    "    \n",
    "    pd.Series(params).to_csv(base_path + 'params.csv', index=False)\n",
    "    pd.DataFrame(tep).to_csv(base_path + 'test_predictions.csv', index=False)\n",
    "    pd.DataFrame(teprob).to_csv(base_path + 'test_probablity.csv', index=False)\n",
    "    if trp is not None:\n",
    "        pd.DataFrame({'predition': trp, 'probablity': trprob}).to_csv(base_path + 'train_results.csv')\n",
    "    pd.DataFrame(fi).to_csv(base_path + 'feature_importances.csv', index=False)\n",
    "    \n",
    "def split_eval(train, labels, x_val, y_val, test, clf, params, fit_params, name):\n",
    "    scores = []\n",
    "    feature_importances = np.zeros(len(train.columns))\n",
    "    test_predictions = np.zeros(test.shape[0])\n",
    "    test_probablity = np.zeros(test.shape[0])\n",
    "    \n",
    "    clf.fit(train, labels, eval_set=[(x_val, y_val)], **fit_params)\n",
    "    if 'catboost' in name:\n",
    "        scores.append(clf.best_score_['validation']['AUC'])\n",
    "    if 'xgboost' in name:\n",
    "        try:\n",
    "            scores.append(clf.best_score)\n",
    "        except:\n",
    "            scores.append({'valid_0': {'auc': clf.evals_result()['validation_0']['auc'][-1]}})\n",
    "    if 'lightgbm' in name:\n",
    "        scores.append(clf.best_score_)\n",
    "    test_predicts = clf.predict_proba(test)\n",
    "    test_predictions = test_predicts[:, 1]\n",
    "    test_probablity = test_predicts[:, 0]\n",
    "    feature_importances = clf.feature_importances_\n",
    "    print('-'*60)\n",
    "    if 'lightgbm' in name:\n",
    "        scores = [dict(s)['valid_0']['auc'] for s in scores]\n",
    "    del clf\n",
    "    return test_predictions, test_probablity, None, None, scores, feature_importances, 'filename'\n",
    "\n",
    "def plot_feature_importances(fe, cols):\n",
    "    fe = pd.DataFrame(fe, index=cols)\n",
    "    if fe.shape[1] > 1:\n",
    "        fe = fe.apply(sum, axis=1)\n",
    "    else:\n",
    "        fe = fe[0]\n",
    "    fe.sort_values(ascending=False)[:20].plot(kind='bar')\n",
    "\n",
    "def cv_eval(train, labels, test, clf, cv, params, fit_params, name):\n",
    "    scores = []\n",
    "    feature_importances = np.zeros((len(train.columns), cv.n_splits))\n",
    "    train_predictions = np.zeros(train.shape[0])\n",
    "    train_probablity = np.zeros(train.shape[0])\n",
    "    test_predictions = np.zeros((test.shape[0], cv.n_splits))\n",
    "    test_probablity = np.zeros((test.shape[0], cv.n_splits))\n",
    "    for i, (train_index, val_index) in enumerate(cv.split(train, labels)):\n",
    "        print(f'starting {i} split')\n",
    "        x_train = train.iloc[train_index]\n",
    "        y_train = labels[train_index]\n",
    "        x_val = train.iloc[val_index]\n",
    "        y_val = labels[val_index]\n",
    "        clf.fit(x_train, y_train, eval_set=[(x_val, y_val)], **fit_params)\n",
    "        if 'catboost' in name:\n",
    "            scores.append(clf.best_score_['validation']['AUC'])\n",
    "        if 'xgboost' in name:\n",
    "            try:\n",
    "                scores.append(clf.best_score)\n",
    "            except:\n",
    "                scores.append({'valid_0': {'auc': clf.evals_result()['validation_0']['auc'][-1]}})\n",
    "        if 'lightgbm' in name:\n",
    "            scores.append(clf.best_score_)\n",
    "        val_predictions = clf.predict_proba(x_val)\n",
    "        train_predictions[val_index] = val_predictions[:, 1]\n",
    "        train_probablity[val_index] = val_predictions[:, 0]\n",
    "        test_predicts = clf.predict_proba(test)\n",
    "        test_predictions[:, i] = test_predicts[:, 1]\n",
    "        test_probablity[:, i] = test_predicts[:, 0]\n",
    "        feature_importances[:, i] = clf.feature_importances_\n",
    "        print('-'*60)\n",
    "        del clf\n",
    "    filename = eval_recorder(params, test_predictions, test_probablity, train_predictions, train_probablity, scores, feature_importances, name, 'local')\n",
    "    return test_predictions, test_probablity, train_predictions, train_probablity, scores, feature_importances, filename\n",
    "\n",
    "def eval_catboost(train, labels, test, cv, params, cat_features, name, eval_set=None):\n",
    "    clf = CatBoostClassifier(**params)\n",
    "    fit_params = {\n",
    "        'cat_features': cat_features,\n",
    "        'plot':False\n",
    "    }\n",
    "\n",
    "    return split_eval(train, labels, eval_set[0], eval_set[1], test, clf, params, fit_params, 'catboost_' + name)\n",
    "\n",
    "def eval_xgboost(train, labels, test, cv, params, name, eval_set=None):\n",
    "    clf = XGBClassifier(**params)\n",
    "    fit_params = {\n",
    "        'verbose':100, \n",
    "        'eval_metric':'auc',\n",
    "        'early_stopping_rounds': 300\n",
    "    }\n",
    "    if cv is not None:\n",
    "        return cv_eval(train, labels, test, clf, cv, params, fit_params, 'xgboost_' + name)\n",
    "    return split_eval(train, labels, eval_set[0], eval_set[1], test, clf, params, fit_params, 'xgboost_' + name)\n",
    "\n",
    "def eval_lightgbm(train, labels, test, cv, params, cat_features, name, eval_set=None):\n",
    "    clf = LGBMClassifier(**params)\n",
    "    fit_params = {\n",
    "        'verbose': 100,\n",
    "        'eval_metric': 'auc',\n",
    "        #'categorical_feature':cat_features,        \n",
    "        'early_stopping_rounds': 300\n",
    "    }\n",
    "    if cv is not None:\n",
    "        return cv_eval(train, labels, test, clf, cv, params, fit_params, 'lightgbm_' + name)\n",
    "    return split_eval(train, labels, eval_set[0], eval_set[1], test, clf, params, fit_params, 'lightgbm_' + name)"
   ]
  },
  {
   "cell_type": "code",
   "execution_count": 383,
   "metadata": {
    "cellId": "z8fdz62d0zp7xczi11cto"
   },
   "outputs": [
    {
     "name": "stderr",
     "output_type": "stream",
     "text": [
      "Default metric period is 5 because AUC is/are not implemented for GPU\n"
     ]
    },
    {
     "name": "stdout",
     "output_type": "stream",
     "text": [
      "0:\ttest: 0.8456061\tbest: 0.8456061 (0)\ttotal: 83.8ms\tremaining: 2m 47s\n",
      "100:\ttest: 0.8799831\tbest: 0.8799831 (100)\ttotal: 7.38s\tremaining: 2m 18s\n",
      "200:\ttest: 0.8874832\tbest: 0.8874832 (200)\ttotal: 14.8s\tremaining: 2m 12s\n",
      "300:\ttest: 0.8918001\tbest: 0.8918001 (300)\ttotal: 22.3s\tremaining: 2m 6s\n",
      "400:\ttest: 0.8960078\tbest: 0.8960078 (400)\ttotal: 29.9s\tremaining: 1m 59s\n",
      "500:\ttest: 0.8995548\tbest: 0.8995548 (500)\ttotal: 37.4s\tremaining: 1m 51s\n",
      "600:\ttest: 0.9025532\tbest: 0.9025532 (600)\ttotal: 44.9s\tremaining: 1m 44s\n",
      "700:\ttest: 0.9054430\tbest: 0.9054430 (700)\ttotal: 52.5s\tremaining: 1m 37s\n",
      "800:\ttest: 0.9076063\tbest: 0.9076063 (800)\ttotal: 1m\tremaining: 1m 29s\n",
      "900:\ttest: 0.9100180\tbest: 0.9100180 (900)\ttotal: 1m 7s\tremaining: 1m 22s\n",
      "1000:\ttest: 0.9121478\tbest: 0.9121478 (1000)\ttotal: 1m 15s\tremaining: 1m 15s\n",
      "1100:\ttest: 0.9144148\tbest: 0.9144148 (1100)\ttotal: 1m 23s\tremaining: 1m 7s\n",
      "1200:\ttest: 0.9160021\tbest: 0.9160021 (1200)\ttotal: 1m 30s\tremaining: 1m\n",
      "1300:\ttest: 0.9178771\tbest: 0.9178771 (1300)\ttotal: 1m 38s\tremaining: 52.9s\n",
      "1400:\ttest: 0.9196825\tbest: 0.9196825 (1400)\ttotal: 1m 45s\tremaining: 45.3s\n",
      "1500:\ttest: 0.9212346\tbest: 0.9212346 (1500)\ttotal: 1m 53s\tremaining: 37.7s\n",
      "1600:\ttest: 0.9227500\tbest: 0.9227504 (1599)\ttotal: 2m\tremaining: 30.2s\n",
      "1700:\ttest: 0.9243578\tbest: 0.9243578 (1700)\ttotal: 2m 8s\tremaining: 22.6s\n",
      "1800:\ttest: 0.9258094\tbest: 0.9258094 (1800)\ttotal: 2m 16s\tremaining: 15s\n",
      "1900:\ttest: 0.9273420\tbest: 0.9273420 (1900)\ttotal: 2m 23s\tremaining: 7.47s\n",
      "1999:\ttest: 0.9285122\tbest: 0.9285122 (1999)\ttotal: 2m 31s\tremaining: 0us\n",
      "bestTest = 0.928512156\n",
      "bestIteration = 1999\n",
      "------------------------------------------------------------\n"
     ]
    }
   ],
   "source": [
    "#!g1.2\n",
    "test_predictions_cat, test_probablity_cal, train_predictions, train_probablity, scores, feature_importances, result_zip = eval_catboost(\n",
    "    train_x,\n",
    "    train_y,\n",
    "    test_df,\n",
    "    None,\n",
    "    catboost_params,\n",
    "    cat_cols,\n",
    "    'catboost_tts',\n",
    "    (val_x, val_y)\n",
    ")"
   ]
  },
  {
   "cell_type": "code",
   "execution_count": 384,
   "metadata": {
    "cellId": "2cx75bqutrg9vh48vs6lyf"
   },
   "outputs": [
    {
     "data": {
      "image/png": "[encoded data removed]",
      "text/plain": [
       "<Figure size 432x288 with 1 Axes>"
      ]
     },
     "metadata": {
      "needs_background": "light"
     },
     "output_type": "display_data"
    }
   ],
   "source": [
    "#!g1.2\n",
    "plot_feature_importances(feature_importances, train_x.columns)"
   ]
  },
  {
   "cell_type": "code",
   "execution_count": null,
   "metadata": {
    "cellId": "krdy3jsi67ketsqf2b1a"
   },
   "outputs": [],
   "source": [
    "#!g1.2\n"
   ]
  },
  {
   "cell_type": "code",
   "execution_count": 385,
   "metadata": {
    "cellId": "x5ccys2aop01js9n1z4e1w"
   },
   "outputs": [
    {
     "name": "stderr",
     "output_type": "stream",
     "text": [
      "/usr/local/lib/python3.10/dist-packages/lightgbm/sklearn.py:726: UserWarning: 'early_stopping_rounds' argument is deprecated and will be removed in a future release of LightGBM. Pass 'early_stopping()' callback via 'callbacks' argument instead.\n",
      "  _log_warning(\"'early_stopping_rounds' argument is deprecated and will be removed in a future release of LightGBM. \"\n",
      "/usr/local/lib/python3.10/dist-packages/lightgbm/sklearn.py:736: UserWarning: 'verbose' argument is deprecated and will be removed in a future release of LightGBM. Pass 'log_evaluation()' callback via 'callbacks' argument instead.\n",
      "  _log_warning(\"'verbose' argument is deprecated and will be removed in a future release of LightGBM. \"\n",
      "/usr/local/lib/python3.10/dist-packages/lightgbm/basic.py:1780: UserWarning: Overriding the parameters from Reference Dataset.\n",
      "  _log_warning('Overriding the parameters from Reference Dataset.')\n",
      "/usr/local/lib/python3.10/dist-packages/lightgbm/basic.py:1513: UserWarning: categorical_column in param dict is overridden.\n",
      "  _log_warning(f'{cat_alias} in param dict is overridden.')\n"
     ]
    },
    {
     "name": "stdout",
     "output_type": "stream",
     "text": [
      "[100]\tvalid_0's auc: 0.898634\tvalid_0's binary_logloss: 0.165344\n",
      "[200]\tvalid_0's auc: 0.910943\tvalid_0's binary_logloss: 0.157915\n",
      "[300]\tvalid_0's auc: 0.918421\tvalid_0's binary_logloss: 0.152791\n",
      "[400]\tvalid_0's auc: 0.923705\tvalid_0's binary_logloss: 0.148453\n",
      "[500]\tvalid_0's auc: 0.927587\tvalid_0's binary_logloss: 0.14491\n",
      "[600]\tvalid_0's auc: 0.930458\tvalid_0's binary_logloss: 0.141802\n",
      "[700]\tvalid_0's auc: 0.932951\tvalid_0's binary_logloss: 0.13908\n",
      "[800]\tvalid_0's auc: 0.935327\tvalid_0's binary_logloss: 0.136434\n",
      "[900]\tvalid_0's auc: 0.93744\tvalid_0's binary_logloss: 0.133905\n",
      "[1000]\tvalid_0's auc: 0.938829\tvalid_0's binary_logloss: 0.131856\n",
      "[1100]\tvalid_0's auc: 0.940325\tvalid_0's binary_logloss: 0.129778\n",
      "[1200]\tvalid_0's auc: 0.941505\tvalid_0's binary_logloss: 0.127929\n",
      "[1300]\tvalid_0's auc: 0.942561\tvalid_0's binary_logloss: 0.126094\n",
      "[1400]\tvalid_0's auc: 0.943374\tvalid_0's binary_logloss: 0.124558\n",
      "[1500]\tvalid_0's auc: 0.94417\tvalid_0's binary_logloss: 0.123\n",
      "[1600]\tvalid_0's auc: 0.944916\tvalid_0's binary_logloss: 0.121592\n",
      "[1700]\tvalid_0's auc: 0.945665\tvalid_0's binary_logloss: 0.120102\n",
      "[1800]\tvalid_0's auc: 0.946291\tvalid_0's binary_logloss: 0.118749\n",
      "[1900]\tvalid_0's auc: 0.946844\tvalid_0's binary_logloss: 0.117522\n",
      "[2000]\tvalid_0's auc: 0.947358\tvalid_0's binary_logloss: 0.116382\n",
      "[2100]\tvalid_0's auc: 0.947664\tvalid_0's binary_logloss: 0.115479\n",
      "[2200]\tvalid_0's auc: 0.94807\tvalid_0's binary_logloss: 0.114418\n",
      "[2300]\tvalid_0's auc: 0.94852\tvalid_0's binary_logloss: 0.113348\n",
      "[2400]\tvalid_0's auc: 0.948736\tvalid_0's binary_logloss: 0.112615\n",
      "[2500]\tvalid_0's auc: 0.949072\tvalid_0's binary_logloss: 0.111785\n",
      "------------------------------------------------------------\n"
     ]
    }
   ],
   "source": [
    "#!g1.2\n",
    "test_predictions_lgb, test_probablity_lgb, train_predictions, train_probablity, scores, feature_importances, result_zip = eval_lightgbm(\n",
    "    train_x,\n",
    "    train_y,\n",
    "    test_df,\n",
    "    None,\n",
    "    lgb_params,\n",
    "    cat_cols,\n",
    "    'lightgbm_tts',\n",
    "    (val_x, val_y)\n",
    ")"
   ]
  },
  {
   "cell_type": "code",
   "execution_count": 386,
   "metadata": {
    "cellId": "tzpd6cet86rvsye2y2s1"
   },
   "outputs": [
    {
     "data": {
      "image/png": "[encoded data removed]",
      "text/plain": [
       "<Figure size 432x288 with 1 Axes>"
      ]
     },
     "metadata": {
      "needs_background": "light"
     },
     "output_type": "display_data"
    }
   ],
   "source": [
    "#!g1.2\n",
    "plot_feature_importances(feature_importances, train_x.columns)"
   ]
  },
  {
   "cell_type": "code",
   "execution_count": 387,
   "metadata": {
    "cellId": "xue4lkq8c8dq5hn8kb5uwm"
   },
   "outputs": [],
   "source": [
    "#!g1.2\n",
    "train_x_en = train_x.fillna(-1)\n",
    "val_x_en = val_x.fillna(-1)\n",
    "test_en = test_df.fillna(-1)"
   ]
  },
  {
   "cell_type": "code",
   "execution_count": 388,
   "metadata": {
    "cellId": "b1fbbaug0jdgswezmchqp"
   },
   "outputs": [
    {
     "name": "stderr",
     "output_type": "stream",
     "text": [
      "/usr/local/lib/python3.10/dist-packages/xgboost/sklearn.py:835: UserWarning: `eval_metric` in `fit` method is deprecated for better compatibility with scikit-learn, use `eval_metric` in constructor or`set_params` instead.\n",
      "  warnings.warn(\n",
      "/usr/local/lib/python3.10/dist-packages/xgboost/sklearn.py:835: UserWarning: `early_stopping_rounds` in `fit` method is deprecated for better compatibility with scikit-learn, use `early_stopping_rounds` in constructor or`set_params` instead.\n",
      "  warnings.warn(\n"
     ]
    },
    {
     "name": "stdout",
     "output_type": "stream",
     "text": [
      "[09:52:51] WARNING: ../src/learner.cc:767: \n",
      "Parameters: { \"device\", \"n_job\" } are not used.\n",
      "\n",
      "[0]\tvalidation_0-auc:0.85623\n",
      "[100]\tvalidation_0-auc:0.91520\n",
      "[200]\tvalidation_0-auc:0.92887\n",
      "[300]\tvalidation_0-auc:0.93673\n",
      "[400]\tvalidation_0-auc:0.94191\n",
      "[500]\tvalidation_0-auc:0.94542\n",
      "[600]\tvalidation_0-auc:0.94827\n",
      "[700]\tvalidation_0-auc:0.95000\n",
      "[800]\tvalidation_0-auc:0.95161\n",
      "[900]\tvalidation_0-auc:0.95263\n",
      "[999]\tvalidation_0-auc:0.95351\n",
      "------------------------------------------------------------\n"
     ]
    }
   ],
   "source": [
    "#!g1.2\n",
    "test_predictions_xgb, test_probablity_xgb, train_predictions, train_probablity, scores, feature_importances, result_zip = eval_xgboost(\n",
    "    train_x_en,\n",
    "    train_y,\n",
    "    test_en,\n",
    "    None,\n",
    "    xgb_params,\n",
    "    'xgboost_tts',\n",
    "    (val_x_en, val_y)\n",
    ")"
   ]
  },
  {
   "cell_type": "code",
   "execution_count": 389,
   "metadata": {
    "cellId": "g55jpoftkbwaujbr4ra5o"
   },
   "outputs": [
    {
     "data": {
      "image/png": "[encoded data removed]",
      "text/plain": [
       "<Figure size 432x288 with 1 Axes>"
      ]
     },
     "metadata": {
      "needs_background": "light"
     },
     "output_type": "display_data"
    }
   ],
   "source": [
    "#!g1.2\n",
    "\n",
    "\n",
    "plot_feature_importances(feature_importances, train_x_en.columns)\n"
   ]
  },
  {
   "cell_type": "markdown",
   "metadata": {
    "cellId": "38j9gqnk866g1j5vmpw2ho",
    "execution_id": "4772cbdf-70aa-4f9d-91ef-85ae352c0957"
   },
   "source": [
    "# Ансамбль\n"
   ]
  },
  {
   "cell_type": "code",
   "execution_count": 390,
   "metadata": {
    "cellId": "r3txf54kgzp9acv19w1fqe"
   },
   "outputs": [],
   "source": [
    "#!g1.2\n",
    "def get_submission_df(predictions):\n",
    "    sample_submission = pd.read_csv('sample_submission.csv')\n",
    "    print(sample_submission.shape)\n",
    "    sample_submission['score'] = predictions\n",
    "    return sample_submission\n",
    "\n",
    "def ensemble_predictions(preds):\n",
    "    ensemble_prediction = np.zeros(preds[0].shape)\n",
    "    for pred in preds:\n",
    "        ensemble_prediction += pred\n",
    "    ensemble_prediction /= len(preds)\n",
    "    return get_submission_df(ensemble_prediction)\n"
   ]
  },
  {
   "cell_type": "code",
   "execution_count": 391,
   "metadata": {
    "cellId": "m1rag5zypea5h77zcmio7r"
   },
   "outputs": [
    {
     "name": "stdout",
     "output_type": "stream",
     "text": [
      "(100000, 2)\n"
     ]
    }
   ],
   "source": [
    "#!g1.2\n",
    "ensemble_predictions([test_predictions_cat, test_predictions_lgb, test_predictions_xgb]).to_csv('my_submission_hz.csv', index=False)"
   ]
  },
  {
   "cell_type": "code",
   "execution_count": null,
   "metadata": {
    "cellId": "1yv7h89hyw4y1gwqcnpx4"
   },
   "outputs": [],
   "source": [
    "#!g1.2\n"
   ]
  }
 ],
 "metadata": {
  "accelerator": "GPU",
  "colab": {
   "provenance": []
  },
  "language_info": {
   "codemirror_mode": {
    "name": "ipython",
    "version": 3
   },
   "file_extension": ".py",
   "mimetype": "text/x-python",
   "name": "python",
   "nbconvert_exporter": "python",
   "pygments_lexer": "ipython3",
   "version": "3.7.7"
  },
  "notebookId": "86224ed4-a95d-459b-b597-624569bcbc96",
  "notebookPath": "block.ipynb"
 },
 "nbformat": 4,
 "nbformat_minor": 4
}
